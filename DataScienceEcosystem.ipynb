{
 "cells": [
  {
   "cell_type": "markdown",
   "id": "7a6a58d4",
   "metadata": {},
   "source": [
    "# Data Science Tools and Ecosystem"
   ]
  },
  {
   "attachments": {},
   "cell_type": "markdown",
   "id": "2b98b30a",
   "metadata": {},
   "source": [
    "In this notebook, Data Science Tools and Ecosystem are summarized."
   ]
  },
  {
   "cell_type": "markdown",
   "id": "9ab8978c",
   "metadata": {},
   "source": [
    "**Objectives:**\n",
    "- Create a Jupyter Notebook\n",
    "* Insert code and markdown cells\n",
    "+ Share your notebook through GitHub"
   ]
  },
  {
   "cell_type": "markdown",
   "id": "42e052e7",
   "metadata": {},
   "source": [
    "Some of the popular languages that Data Scientists use are:"
   ]
  },
  {
   "cell_type": "markdown",
   "id": "a584b50d",
   "metadata": {},
   "source": [
    "1. SQL\n",
    "2. Python\n",
    "3. Studio"
   ]
  },
  {
   "cell_type": "markdown",
   "id": "633f466e",
   "metadata": {},
   "source": [
    "Some of the commonly used libraries used by Data Scientists include:"
   ]
  },
  {
   "cell_type": "markdown",
   "id": "9636bfd9",
   "metadata": {},
   "source": [
    "1. Scikit-Learn\n",
    "2. TensorFlow\n",
    "3. PyTorch"
   ]
  },
  {
   "cell_type": "markdown",
   "id": "83351a97",
   "metadata": {},
   "source": [
    "| Data Science Tools |\n",
    "| ------- |\n",
    "| Jupyter Notebook |\n",
    "| R Studio |\n",
    "| Anaconda |"
   ]
  },
  {
   "cell_type": "markdown",
   "id": "2c6213e6",
   "metadata": {},
   "source": [
    "### Below are a few examples of evaluating arithmetic expressions in Python"
   ]
  },
  {
   "cell_type": "code",
   "execution_count": 7,
   "id": "6b67a9f5",
   "metadata": {},
   "outputs": [
    {
     "data": {
      "text/plain": [
       "17"
      ]
     },
     "execution_count": 7,
     "metadata": {},
     "output_type": "execute_result"
    }
   ],
   "source": [
    "#This a simple arithmetic expression to mutiply then add integers\n",
    "\n",
    "(3*4)+5"
   ]
  },
  {
   "cell_type": "code",
   "execution_count": 9,
   "id": "045cd64b",
   "metadata": {},
   "outputs": [
    {
     "name": "stdout",
     "output_type": "stream",
     "text": [
      "3.3333333333333335\n"
     ]
    }
   ],
   "source": [
    "#This will convert 200 minutes to hours by diving by 60\n",
    "minutes = 200\n",
    "hours = minutes/60\n",
    "print (hours)"
   ]
  },
  {
   "cell_type": "markdown",
   "id": "419056ad",
   "metadata": {},
   "source": [
    "## Author\n"
   ]
  },
  {
   "cell_type": "markdown",
   "id": "08a7ffc5",
   "metadata": {},
   "source": [
    "Semih YILDIZ"
   ]
  },
  {
   "cell_type": "code",
   "execution_count": null,
   "id": "26b8daf8",
   "metadata": {},
   "outputs": [],
   "source": []
  }
 ],
 "metadata": {
  "kernelspec": {
   "display_name": "Python 3 (ipykernel)",
   "language": "python",
   "name": "python3"
  },
  "language_info": {
   "codemirror_mode": {
    "name": "ipython",
    "version": 3
   },
   "file_extension": ".py",
   "mimetype": "text/x-python",
   "name": "python",
   "nbconvert_exporter": "python",
   "pygments_lexer": "ipython3",
   "version": "3.10.9"
  }
 },
 "nbformat": 4,
 "nbformat_minor": 5
}
